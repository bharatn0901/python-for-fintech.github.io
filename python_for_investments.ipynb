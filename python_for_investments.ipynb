{
 "cells": [
  {
   "cell_type": "markdown",
   "id": "237c83c4",
   "metadata": {},
   "source": [
    "# Importing Libraries"
   ]
  },
  {
   "cell_type": "code",
   "execution_count": 4,
   "id": "1ae3147c",
   "metadata": {},
   "outputs": [
    {
     "name": "stdout",
     "output_type": "stream",
     "text": [
      "Collecting yfinance\n",
      "  Obtaining dependency information for yfinance from https://files.pythonhosted.org/packages/e6/b3/388ab967a387cc92926f70e97688dd9a7189b29a0773db815ffc5289e2b5/yfinance-0.2.31-py2.py3-none-any.whl.metadata\n",
      "  Downloading yfinance-0.2.31-py2.py3-none-any.whl.metadata (11 kB)\n",
      "Requirement already satisfied: pandas>=1.3.0 in c:\\users\\nsiva\\anaconda3\\lib\\site-packages (from yfinance) (2.0.3)\n",
      "Requirement already satisfied: numpy>=1.16.5 in c:\\users\\nsiva\\anaconda3\\lib\\site-packages (from yfinance) (1.24.3)\n",
      "Requirement already satisfied: requests>=2.31 in c:\\users\\nsiva\\anaconda3\\lib\\site-packages (from yfinance) (2.31.0)\n",
      "Collecting multitasking>=0.0.7 (from yfinance)\n",
      "  Using cached multitasking-0.0.11-py3-none-any.whl (8.5 kB)\n",
      "Requirement already satisfied: lxml>=4.9.1 in c:\\users\\nsiva\\anaconda3\\lib\\site-packages (from yfinance) (4.9.3)\n",
      "Requirement already satisfied: appdirs>=1.4.4 in c:\\users\\nsiva\\anaconda3\\lib\\site-packages (from yfinance) (1.4.4)\n",
      "Requirement already satisfied: pytz>=2022.5 in c:\\users\\nsiva\\anaconda3\\lib\\site-packages (from yfinance) (2023.3.post1)\n",
      "Collecting frozendict>=2.3.4 (from yfinance)\n",
      "  Downloading frozendict-2.3.8-py311-none-any.whl (14 kB)\n",
      "Collecting peewee>=3.16.2 (from yfinance)\n",
      "  Downloading peewee-3.17.0.tar.gz (2.9 MB)\n",
      "     ---------------------------------------- 0.0/2.9 MB ? eta -:--:--\n",
      "     ---------------------------------------- 0.0/2.9 MB ? eta -:--:--\n",
      "     - -------------------------------------- 0.1/2.9 MB 2.0 MB/s eta 0:00:02\n",
      "     -- ------------------------------------- 0.2/2.9 MB 2.4 MB/s eta 0:00:02\n",
      "     --- ------------------------------------ 0.3/2.9 MB 1.8 MB/s eta 0:00:02\n",
      "     ---- ----------------------------------- 0.4/2.9 MB 1.9 MB/s eta 0:00:02\n",
      "     ----- ---------------------------------- 0.4/2.9 MB 1.5 MB/s eta 0:00:02\n",
      "     ----- ---------------------------------- 0.4/2.9 MB 1.5 MB/s eta 0:00:02\n",
      "     ------ --------------------------------- 0.5/2.9 MB 1.4 MB/s eta 0:00:02\n",
      "     ------- -------------------------------- 0.6/2.9 MB 1.5 MB/s eta 0:00:02\n",
      "     ---------- ----------------------------- 0.8/2.9 MB 1.8 MB/s eta 0:00:02\n",
      "     ------------- -------------------------- 1.0/2.9 MB 2.1 MB/s eta 0:00:01\n",
      "     ----------------- ---------------------- 1.3/2.9 MB 2.4 MB/s eta 0:00:01\n",
      "     ---------------------- ----------------- 1.6/2.9 MB 2.8 MB/s eta 0:00:01\n",
      "     -------------------------- ------------- 1.9/2.9 MB 3.1 MB/s eta 0:00:01\n",
      "     ----------------------------- ---------- 2.2/2.9 MB 3.2 MB/s eta 0:00:01\n",
      "     --------------------------------- ------ 2.5/2.9 MB 3.4 MB/s eta 0:00:01\n",
      "     ------------------------------------- -- 2.8/2.9 MB 3.6 MB/s eta 0:00:01\n",
      "     ---------------------------------------- 2.9/2.9 MB 3.7 MB/s eta 0:00:00\n",
      "  Installing build dependencies: started\n",
      "  Installing build dependencies: finished with status 'done'\n",
      "  Getting requirements to build wheel: started\n",
      "  Getting requirements to build wheel: finished with status 'done'\n",
      "  Preparing metadata (pyproject.toml): started\n",
      "  Preparing metadata (pyproject.toml): finished with status 'done'\n",
      "Requirement already satisfied: beautifulsoup4>=4.11.1 in c:\\users\\nsiva\\anaconda3\\lib\\site-packages (from yfinance) (4.12.2)\n",
      "Collecting html5lib>=1.1 (from yfinance)\n",
      "  Using cached html5lib-1.1-py2.py3-none-any.whl (112 kB)\n",
      "Requirement already satisfied: soupsieve>1.2 in c:\\users\\nsiva\\anaconda3\\lib\\site-packages (from beautifulsoup4>=4.11.1->yfinance) (2.4)\n",
      "Requirement already satisfied: six>=1.9 in c:\\users\\nsiva\\anaconda3\\lib\\site-packages (from html5lib>=1.1->yfinance) (1.16.0)\n",
      "Requirement already satisfied: webencodings in c:\\users\\nsiva\\anaconda3\\lib\\site-packages (from html5lib>=1.1->yfinance) (0.5.1)\n",
      "Requirement already satisfied: python-dateutil>=2.8.2 in c:\\users\\nsiva\\anaconda3\\lib\\site-packages (from pandas>=1.3.0->yfinance) (2.8.2)\n",
      "Requirement already satisfied: tzdata>=2022.1 in c:\\users\\nsiva\\anaconda3\\lib\\site-packages (from pandas>=1.3.0->yfinance) (2023.3)\n",
      "Requirement already satisfied: charset-normalizer<4,>=2 in c:\\users\\nsiva\\anaconda3\\lib\\site-packages (from requests>=2.31->yfinance) (2.0.4)\n",
      "Requirement already satisfied: idna<4,>=2.5 in c:\\users\\nsiva\\anaconda3\\lib\\site-packages (from requests>=2.31->yfinance) (3.4)\n",
      "Requirement already satisfied: urllib3<3,>=1.21.1 in c:\\users\\nsiva\\anaconda3\\lib\\site-packages (from requests>=2.31->yfinance) (1.26.16)\n",
      "Requirement already satisfied: certifi>=2017.4.17 in c:\\users\\nsiva\\anaconda3\\lib\\site-packages (from requests>=2.31->yfinance) (2023.7.22)\n",
      "Downloading yfinance-0.2.31-py2.py3-none-any.whl (65 kB)\n",
      "   ---------------------------------------- 0.0/65.6 kB ? eta -:--:--\n",
      "   ---------------------------------------- 65.6/65.6 kB 3.5 MB/s eta 0:00:00\n",
      "Building wheels for collected packages: peewee\n",
      "  Building wheel for peewee (pyproject.toml): started\n",
      "  Building wheel for peewee (pyproject.toml): finished with status 'done'\n",
      "  Created wheel for peewee: filename=peewee-3.17.0-py3-none-any.whl size=135767 sha256=2ed821ce701ebba4941baa278c1bbfa5f13b92d12011f3749bba9182f8961a2d\n",
      "  Stored in directory: c:\\users\\nsiva\\appdata\\local\\pip\\cache\\wheels\\02\\20\\23\\74a10d0cd31f5d41c19b92ddf4c138ceff01b9f4675f19dbf5\n",
      "Successfully built peewee\n",
      "Installing collected packages: peewee, multitasking, html5lib, frozendict, yfinance\n",
      "Successfully installed frozendict-2.3.8 html5lib-1.1 multitasking-0.0.11 peewee-3.17.0 yfinance-0.2.31\n"
     ]
    }
   ],
   "source": [
    "#!pip install pandas-datareader\n",
    "#!pip install yfinance"
   ]
  },
  {
   "cell_type": "code",
   "execution_count": 5,
   "id": "648f9bcb",
   "metadata": {},
   "outputs": [],
   "source": [
    "from pandas_datareader import data as pdr\n",
    "import yfinance as yf\n",
    "import pandas as pd\n",
    "import numpy as np\n",
    "import math\n",
    "import matplotlib.pyplot as plt\n",
    "import random as rd\n",
    "import statsmodels\n",
    "from datetime import datetime\n",
    "yf.pdr_override()"
   ]
  },
  {
   "cell_type": "markdown",
   "id": "db0fcd90",
   "metadata": {},
   "source": [
    "# Method 1 - Getting data from Yahoo Finance"
   ]
  },
  {
   "cell_type": "code",
   "execution_count": null,
   "id": "900e5c33",
   "metadata": {},
   "outputs": [],
   "source": [
    "# y_symbols = ['PG']\n",
    "# startdate = datetime(1995,1,1)\n",
    "# enddate = datetime(2022,12,31)\n",
    "# pg = pdr.get_data_yahoo(y_symbols, start=startdate) #end= enddate) - to specify end date use this\n",
    "# pg"
   ]
  },
  {
   "cell_type": "markdown",
   "id": "6e343437",
   "metadata": {},
   "source": [
    "# Method 2 - Getting data from Yahoo Finance"
   ]
  },
  {
   "cell_type": "code",
   "execution_count": null,
   "id": "7f83b7d3",
   "metadata": {},
   "outputs": [],
   "source": [
    "# PcG = yf.download(\"PG\", start = \"1995-01-01\") # end = \"2022-12-31\") - to specify end date use this\n",
    "# PcG\n",
    "# pg.info()"
   ]
  },
  {
   "cell_type": "markdown",
   "id": "5295c9bc",
   "metadata": {},
   "source": [
    "# Method 3 - Getting data for multiple stocks from Yahoo Finance"
   ]
  },
  {
   "cell_type": "code",
   "execution_count": 6,
   "id": "3956d94c",
   "metadata": {},
   "outputs": [
    {
     "name": "stdout",
     "output_type": "stream",
     "text": [
      "[*********************100%%**********************]  1 of 1 completed\n",
      "[*********************100%%**********************]  1 of 1 completed\n",
      "[*********************100%%**********************]  1 of 1 completed\n",
      "[*********************100%%**********************]  1 of 1 completed\n",
      "[*********************100%%**********************]  1 of 1 completed\n"
     ]
    }
   ],
   "source": [
    "tickers = ['PG','MSFT','T','F','GE']\n",
    "startdate = datetime(1995,1,1)\n",
    "enddate = datetime(2022,12,31)\n",
    "pf =pd.DataFrame()\n",
    "for t in tickers:\n",
    "    pf[t] = pdr.get_data_yahoo(t, start=startdate)['Adj Close']"
   ]
  },
  {
   "cell_type": "code",
   "execution_count": 7,
   "id": "0b950b0b",
   "metadata": {
    "scrolled": true
   },
   "outputs": [
    {
     "name": "stdout",
     "output_type": "stream",
     "text": [
      "<class 'pandas.core.frame.DataFrame'>\n",
      "DatetimeIndex: 7248 entries, 1995-01-03 to 2023-10-16\n",
      "Data columns (total 5 columns):\n",
      " #   Column  Non-Null Count  Dtype  \n",
      "---  ------  --------------  -----  \n",
      " 0   PG      7248 non-null   float64\n",
      " 1   MSFT    7247 non-null   float64\n",
      " 2   T       7248 non-null   float64\n",
      " 3   F       7248 non-null   float64\n",
      " 4   GE      7248 non-null   float64\n",
      "dtypes: float64(5)\n",
      "memory usage: 339.8 KB\n"
     ]
    }
   ],
   "source": [
    "pf.info()"
   ]
  },
  {
   "cell_type": "code",
   "execution_count": null,
   "id": "f3293cb8",
   "metadata": {},
   "outputs": [],
   "source": [
    "h1 = pf.head()\n",
    "t1 = pf.tail()\n",
    "print(h1)\n",
    "print(t1)"
   ]
  },
  {
   "cell_type": "code",
   "execution_count": null,
   "id": "bec81f86",
   "metadata": {},
   "outputs": [],
   "source": [
    "pf.head()"
   ]
  },
  {
   "cell_type": "markdown",
   "id": "194d19fc",
   "metadata": {},
   "source": [
    "# Normalization"
   ]
  },
  {
   "cell_type": "code",
   "execution_count": null,
   "id": "ff07d496",
   "metadata": {},
   "outputs": [],
   "source": [
    "#dividing data from the first row with each and every subsequent rows normalizes the data to 100, which means \n",
    "# with first row assumed as 100 ( all stock prices start at price 100) how the subsequent day's stock prices \n",
    "# moved over a period of time relative to first date.\n",
    "(pf / pf.iloc[0] * 100).plot(figsize = (15,7))\n",
    "plt.show()"
   ]
  },
  {
   "cell_type": "markdown",
   "id": "ba775ff9",
   "metadata": {},
   "source": [
    "#  Without Normalization"
   ]
  },
  {
   "cell_type": "code",
   "execution_count": null,
   "id": "e77e4d61",
   "metadata": {},
   "outputs": [],
   "source": [
    "# Without normalization the chart looks like below\n",
    "pf.plot(figsize = (15,7))\n",
    "plt.show()"
   ]
  },
  {
   "cell_type": "markdown",
   "id": "40d5e4dd",
   "metadata": {},
   "source": [
    "# Calculating returns of a Portfolio of Securities"
   ]
  },
  {
   "cell_type": "code",
   "execution_count": null,
   "id": "ca6999e5",
   "metadata": {},
   "outputs": [],
   "source": [
    "returns = (pf / pf.shift(1)) - 1\n",
    "returns.head()"
   ]
  },
  {
   "cell_type": "code",
   "execution_count": null,
   "id": "25915a4c",
   "metadata": {},
   "outputs": [],
   "source": [
    "# assuming weights of the stocks in the portfolio are equally distributed \n",
    "weights = np.array([0.25, 0.25, 0.25, 0.25, 0.25])"
   ]
  },
  {
   "cell_type": "code",
   "execution_count": null,
   "id": "1e7ce65d",
   "metadata": {},
   "outputs": [],
   "source": [
    "np.dot(returns, weights)"
   ]
  },
  {
   "cell_type": "code",
   "execution_count": null,
   "id": "cad6eb4a",
   "metadata": {},
   "outputs": [],
   "source": [
    "annual_returns = returns.mean() * 250\n",
    "annual_returns"
   ]
  },
  {
   "cell_type": "code",
   "execution_count": null,
   "id": "1f814022",
   "metadata": {},
   "outputs": [],
   "source": [
    "pfolio_1 = str(round(np.dot(annual_returns, weights), 4) * 100) + ' %'\n",
    "print(pfolio_1)"
   ]
  },
  {
   "cell_type": "markdown",
   "id": "1c67191b",
   "metadata": {},
   "source": [
    "# Calculating log returns"
   ]
  },
  {
   "cell_type": "code",
   "execution_count": null,
   "id": "fe30fa48",
   "metadata": {},
   "outputs": [],
   "source": [
    "# We are using logarithmic return since we are examining each company separately\n",
    "\n",
    "sec_returns = np.log(pf / pf.shift(1))"
   ]
  },
  {
   "cell_type": "code",
   "execution_count": null,
   "id": "fe1a4c76",
   "metadata": {},
   "outputs": [],
   "source": [
    "sec_returns.head()"
   ]
  },
  {
   "cell_type": "markdown",
   "id": "d3d68959",
   "metadata": {},
   "source": [
    "# Annualized Returns for each security in a Portfolio"
   ]
  },
  {
   "cell_type": "code",
   "execution_count": null,
   "id": "45fd7745",
   "metadata": {},
   "outputs": [],
   "source": [
    "# Annualized returns for each security\n",
    "ann_returns = sec_returns.mean() * 250\n",
    "print(ann_returns)"
   ]
  },
  {
   "cell_type": "markdown",
   "id": "ca9cc03c",
   "metadata": {},
   "source": [
    "# Annualized Variance for each security in a Portfolio"
   ]
  },
  {
   "cell_type": "code",
   "execution_count": null,
   "id": "18454fa0",
   "metadata": {},
   "outputs": [],
   "source": [
    "# Annualized variance for each security\n",
    "ann_var = sec_returns.var() * 250\n",
    "print(pf_var)"
   ]
  },
  {
   "cell_type": "markdown",
   "id": "8839d048",
   "metadata": {},
   "source": [
    "# Annualized Standard Deviation (SD) for each security in a Portfolio"
   ]
  },
  {
   "cell_type": "code",
   "execution_count": null,
   "id": "8cf4a447",
   "metadata": {},
   "outputs": [],
   "source": [
    "# Annualized standard deviation for each security\n",
    "ann_std = sec_returns.std() * 250 ** 0.5\n",
    "print(ann_std)"
   ]
  },
  {
   "cell_type": "code",
   "execution_count": null,
   "id": "9e1a7245",
   "metadata": {},
   "outputs": [],
   "source": [
    "pg = ann_std['PG'] ** 2\n",
    "print(pg)"
   ]
  },
  {
   "cell_type": "markdown",
   "id": "dd560a67",
   "metadata": {},
   "source": [
    "# Portfolio Covariance Matrix"
   ]
  },
  {
   "cell_type": "code",
   "execution_count": null,
   "id": "86823410",
   "metadata": {},
   "outputs": [],
   "source": [
    "# Covirance Matric of the portfolio\n",
    "cov_mx = sec_returns.cov()\n",
    "print(cov_mx)"
   ]
  },
  {
   "cell_type": "markdown",
   "id": "b6d56142",
   "metadata": {},
   "source": [
    "# Portfolio Correlation Matrix"
   ]
  },
  {
   "cell_type": "code",
   "execution_count": null,
   "id": "4b3699db",
   "metadata": {},
   "outputs": [],
   "source": [
    "# Correlation Matrix of the portfolio\n",
    "corr_mx = sec_returns.corr()\n",
    "print(corr_mx)"
   ]
  },
  {
   "cell_type": "markdown",
   "id": "8804043b",
   "metadata": {},
   "source": [
    "# Returns, Annualized returns, SD and Annualized SD for PG"
   ]
  },
  {
   "cell_type": "code",
   "execution_count": null,
   "id": "c4ab996f",
   "metadata": {},
   "outputs": [],
   "source": [
    "# Daily Average Return\n",
    "mean = str(round(sec_returns['PG'].mean(), 4) * 100) + ' %'\n",
    "print(mean)\n",
    "\n",
    "# Annualized Average Return\n",
    "ann_mean = str(round(sec_returns['PG'].mean() * 250, 4) * 100) + ' %'\n",
    "print(ann_mean)\n",
    "\n",
    "# Daily Standard Deviation\n",
    "sd = str(round(sec_returns['PG'].std(), 4) * 100) + ' %'\n",
    "print(sd)\n",
    "\n",
    "# Annualized Standard Deviation\n",
    "ann_sd = str(round(sec_returns['PG'].std() * 250 ** 0.5, 4) * 100) + ' %'\n",
    "print(ann_sd)"
   ]
  },
  {
   "cell_type": "markdown",
   "id": "7c9cc8fa",
   "metadata": {},
   "source": [
    "# Proctor & Gamble (pg) Summary Statistics"
   ]
  },
  {
   "cell_type": "code",
   "execution_count": null,
   "id": "26e10bd2",
   "metadata": {},
   "outputs": [],
   "source": [
    "print(\" SUMMARY STATISTICS\\n\"\n",
    "     \"-------------------\\n\",\n",
    "      \"Mean               =  {}\\n\".format(mean),\n",
    "      \"Annualized Mean    =  {}\\n\".format(ann_mean),\n",
    "      \"Standard Deviation =  {}\\n\".format(sd),\n",
    "      \"Annualized SD      =  {}\\n\".format(ann_sd)\n",
    "     )"
   ]
  },
  {
   "cell_type": "markdown",
   "id": "c063f873",
   "metadata": {},
   "source": [
    "# Portfolio Summary Statistics"
   ]
  },
  {
   "cell_type": "code",
   "execution_count": null,
   "id": "8c5ce0e7",
   "metadata": {},
   "outputs": [],
   "source": [
    "print(\" SUMMARY STATISTICS\\n\"\n",
    "     \"-------------------\\n\",\n",
    "    \"Annualized Mean:\\n\",\n",
    "      ann_returns,\n",
    "      \"\\n\",\n",
    "      \"\\n\",\n",
    "     \"Annualized Variance:\\n\",\n",
    "      pf_var,\n",
    "      \"\\n\",\n",
    "      \"\\n\",\n",
    "     \"Annualized SD:\\n\",\n",
    "      ann_std,\n",
    "     \"\\n\",\n",
    "     \"\\n\",\n",
    "     \"Covariance Matrix:\\n\",\n",
    "      cov_mx,\n",
    "     \"\\n\",\n",
    "     \"\\n\",\n",
    "     \"Correlation Matrix:\\n\",\n",
    "      corr_mx\n",
    "     )"
   ]
  },
  {
   "cell_type": "markdown",
   "id": "4e341d3c",
   "metadata": {},
   "source": [
    "# Weights of securities or funds in a Portfolio"
   ]
  },
  {
   "cell_type": "code",
   "execution_count": null,
   "id": "329ff604",
   "metadata": {},
   "outputs": [],
   "source": [
    "# Manual listing of weights\n",
    "# weights = np.array([0.5, 0.5])\n",
    "\n",
    "# Dynamic listing of Weights\n",
    "sec_weight = (1 / sec_returns.shape[1])\n",
    "sec_weight"
   ]
  },
  {
   "cell_type": "code",
   "execution_count": null,
   "id": "cdf4e2ad",
   "metadata": {},
   "outputs": [],
   "source": [
    "weights = np.repeat(sec_weight, sec_returns.shape[1])\n",
    "weights"
   ]
  },
  {
   "cell_type": "markdown",
   "id": "7df7e4d2",
   "metadata": {},
   "source": [
    "# Expected Portfolio Returns, Variance and Standard Deviation"
   ]
  },
  {
   "cell_type": "code",
   "execution_count": null,
   "id": "1e8a37b3",
   "metadata": {},
   "outputs": [],
   "source": [
    "# To get the Transpose weights vector, we need to use the .T notation after the name of the weights objects\n",
    "\n",
    "exp_return = str(round(np.sum(weights * sec_returns.mean()) * 250, 4) * 100) + \"%\"\n",
    "print(\"Portfolio Return = \", exp_return)\n",
    "\n",
    "pf_var = np.dot(weights.T, np.dot(sec_returns.cov() * 250, weights))\n",
    "print(\"Portfolio Variance = \", str(round(pf_var * 100, 2)) + \"%\")\n",
    "\n",
    "pf_stdev = (np.dot(weights.T, np.dot(sec_returns.cov() * 250, weights))) ** 0.5\n",
    "# or pf_stdev = np.sqrt(np.dot(weights.T, np.dot(sec_returns.cov() * 250, weights)))\n",
    "# \n",
    "print(\"Portfolio Standard Deviation = \", str(round(pf_stdev * 100, 2)) + \"%\")\n"
   ]
  },
  {
   "cell_type": "code",
   "execution_count": null,
   "id": "c25fb8ec",
   "metadata": {},
   "outputs": [],
   "source": [
    "pf_sdev = np.dot(weights.T, np.dot(sec_returns.corr() * 250, weights))\n",
    "pf_sdev"
   ]
  },
  {
   "cell_type": "markdown",
   "id": "0fc7ebda",
   "metadata": {},
   "source": [
    "# Regression on Portfolio"
   ]
  },
  {
   "cell_type": "code",
   "execution_count": null,
   "id": "06a40233",
   "metadata": {},
   "outputs": [],
   "source": [
    "from scipy import stats\n",
    "import statsmodels.api as sm\n",
    "import matplotlib.pyplot as plt"
   ]
  },
  {
   "cell_type": "code",
   "execution_count": null,
   "id": "e8bef8e3",
   "metadata": {},
   "outputs": [],
   "source": [
    "num_assets = len(tickers)\n",
    "print(num_assets)"
   ]
  },
  {
   "cell_type": "markdown",
   "id": "7c5f26ff",
   "metadata": {},
   "source": [
    "# Obtaining the Efficient Frontier in Python"
   ]
  },
  {
   "cell_type": "code",
   "execution_count": null,
   "id": "9fb8aedc",
   "metadata": {},
   "outputs": [],
   "source": [
    "# Creating a hypothetical portfolio of returns and volatilities\n",
    "\n",
    "pf_returns = []\n",
    "pf_vols = []\n",
    "\n",
    "for x in range (1000) :\n",
    "    weights = np.random.random(num_assets)\n",
    "    weights /= np.sum(weights)\n",
    "    pf_returns.append(np.sum(weights * sec_returns.mean()) * 250)\n",
    "    pf_vols.append(np.sqrt(np.dot(weights.T, np.dot(sec_returns.cov() * 250, weights))))\n",
    "    \n",
    "    \n",
    "pf_returns = np.array(pf_returns)\n",
    "pf_vols = np.array(pf_vols)\n",
    "\n",
    "pf_returns, pf_vols"
   ]
  },
  {
   "cell_type": "code",
   "execution_count": null,
   "id": "b02b8145",
   "metadata": {},
   "outputs": [],
   "source": []
  },
  {
   "cell_type": "code",
   "execution_count": null,
   "id": "177b920f",
   "metadata": {},
   "outputs": [],
   "source": []
  },
  {
   "cell_type": "code",
   "execution_count": null,
   "id": "57daa91c",
   "metadata": {},
   "outputs": [],
   "source": []
  },
  {
   "cell_type": "code",
   "execution_count": null,
   "id": "286873ba",
   "metadata": {},
   "outputs": [],
   "source": []
  },
  {
   "cell_type": "code",
   "execution_count": null,
   "id": "f2888e6c",
   "metadata": {},
   "outputs": [],
   "source": []
  },
  {
   "cell_type": "code",
   "execution_count": null,
   "id": "cbacdd64",
   "metadata": {},
   "outputs": [],
   "source": []
  },
  {
   "cell_type": "code",
   "execution_count": null,
   "id": "28c8a3c7",
   "metadata": {},
   "outputs": [],
   "source": []
  },
  {
   "cell_type": "code",
   "execution_count": null,
   "id": "176c2c02",
   "metadata": {},
   "outputs": [],
   "source": []
  },
  {
   "cell_type": "code",
   "execution_count": null,
   "id": "de855211",
   "metadata": {},
   "outputs": [],
   "source": []
  },
  {
   "cell_type": "code",
   "execution_count": null,
   "id": "31eac181",
   "metadata": {},
   "outputs": [],
   "source": []
  },
  {
   "cell_type": "code",
   "execution_count": null,
   "id": "ca59e310",
   "metadata": {},
   "outputs": [],
   "source": []
  },
  {
   "cell_type": "code",
   "execution_count": null,
   "id": "abea275e",
   "metadata": {},
   "outputs": [],
   "source": []
  },
  {
   "cell_type": "code",
   "execution_count": null,
   "id": "02eb0de7",
   "metadata": {},
   "outputs": [],
   "source": []
  }
 ],
 "metadata": {
  "kernelspec": {
   "display_name": "Python 3 (ipykernel)",
   "language": "python",
   "name": "python3"
  },
  "language_info": {
   "codemirror_mode": {
    "name": "ipython",
    "version": 3
   },
   "file_extension": ".py",
   "mimetype": "text/x-python",
   "name": "python",
   "nbconvert_exporter": "python",
   "pygments_lexer": "ipython3",
   "version": "3.11.5"
  }
 },
 "nbformat": 4,
 "nbformat_minor": 5
}
